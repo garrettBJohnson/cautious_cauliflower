{
 "cells": [
  {
   "cell_type": "markdown",
   "metadata": {},
   "source": [
    "### Notes as I go:\n",
    "\n",
    " * I initialized Jupyter from my generic anaconda environment and received an error about a missing module; [this thread](https://forums.fast.ai/t/error-no-module-named-bcolz-but-bcolz-is-already-installed/9504/6) recommended updating conda and activating it from my wd: \n",
    " \n",
    " ```\n",
    " cd /Documents/fastai \n",
    " conda activate fastai\n",
    " jupyter notebook\n",
    " ```\n",
    " \n",
    " * I am keeping this notebook up-to-date as I proceed through the course by copying it from my working directory on my local machine, which may differ from my side projects directory that points to GitHub ('cautious_cauliflower')."
   ]
  },
  {
   "cell_type": "markdown",
   "metadata": {},
   "source": [
    "# Random forest regression practice"
   ]
  },
  {
   "cell_type": "code",
   "execution_count": null,
   "metadata": {},
   "outputs": [],
   "source": []
  }
 ],
 "metadata": {
  "kernelspec": {
   "display_name": "Python 3",
   "language": "python",
   "name": "python3"
  },
  "language_info": {
   "codemirror_mode": {
    "name": "ipython",
    "version": 3
   },
   "file_extension": ".py",
   "mimetype": "text/x-python",
   "name": "python",
   "nbconvert_exporter": "python",
   "pygments_lexer": "ipython3",
   "version": "3.6.8"
  }
 },
 "nbformat": 4,
 "nbformat_minor": 2
}
